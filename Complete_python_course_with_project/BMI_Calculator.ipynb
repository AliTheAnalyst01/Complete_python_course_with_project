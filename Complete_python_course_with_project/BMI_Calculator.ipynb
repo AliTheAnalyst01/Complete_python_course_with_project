{
 "cells": [
  {
   "cell_type": "markdown",
   "metadata": {},
   "source": [
    "# BMI Calculator"
   ]
  },
  {
   "cell_type": "code",
   "execution_count": 6,
   "metadata": {},
   "outputs": [
    {
     "name": "stdout",
     "output_type": "stream",
     "text": [
      "29.09486697124429\n",
      "Ali, you are overweight.\n"
     ]
    }
   ],
   "source": [
    "name = input('Enter your name: ')\n",
    "weight = int(input('Enter your weight in pounds: '))\n",
    "height = int(input('Enter your height in inches: '))\n",
    "bmi = (weight * 703) / (height * height) # formula of bmi\n",
    "print(bmi)\n",
    "\n",
    "if bmi < 18.5:\n",
    "    print(name +', You are underweight.')\n",
    "elif bmi >= 18.5 and bmi <= 24.9:\n",
    "    print(name +', you are normal weight.')\n",
    "elif bmi >= 25 and bmi <= 29.9:\n",
    "    print(name+', you are overweight.')\n",
    "elif bmi >=30 and bmi <=34.9:\n",
    "    print(name+', you are obese.')\n",
    "elif bmi>=35 and bmi<=39.9:\n",
    "    print(name +', you are severly obese.')\n",
    "else:\n",
    "    print(name +', you are morbidly obese.')\n",
    "    "
   ]
  },
  {
   "cell_type": "code",
   "execution_count": null,
   "metadata": {},
   "outputs": [],
   "source": []
  }
 ],
 "metadata": {
  "kernelspec": {
   "display_name": "Python 3",
   "language": "python",
   "name": "python3"
  },
  "language_info": {
   "codemirror_mode": {
    "name": "ipython",
    "version": 3
   },
   "file_extension": ".py",
   "mimetype": "text/x-python",
   "name": "python",
   "nbconvert_exporter": "python",
   "pygments_lexer": "ipython3",
   "version": "3.11.4"
  },
  "orig_nbformat": 4
 },
 "nbformat": 4,
 "nbformat_minor": 2
}
