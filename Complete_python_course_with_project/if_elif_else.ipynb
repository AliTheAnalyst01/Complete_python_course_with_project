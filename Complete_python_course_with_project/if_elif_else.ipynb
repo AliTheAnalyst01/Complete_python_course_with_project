{
 "cells": [
  {
   "cell_type": "markdown",
   "metadata": {},
   "source": [
    "# If-Elif-Else Statement"
   ]
  },
  {
   "cell_type": "code",
   "execution_count": 1,
   "metadata": {},
   "outputs": [
    {
     "name": "stdout",
     "output_type": "stream",
     "text": [
      "it worked\n"
     ]
    }
   ],
   "source": [
    "if 25>10:\n",
    "    print('it worked')"
   ]
  },
  {
   "cell_type": "code",
   "execution_count": 2,
   "metadata": {},
   "outputs": [
    {
     "name": "stdout",
     "output_type": "stream",
     "text": [
      "it did not worked...\n"
     ]
    }
   ],
   "source": [
    "if 25 < 10:\n",
    "    print('it worked')\n",
    "else:\n",
    "    print('it did not worked...')"
   ]
  },
  {
   "cell_type": "code",
   "execution_count": 3,
   "metadata": {},
   "outputs": [
    {
     "name": "stdout",
     "output_type": "stream",
     "text": [
      "elif worked!\n"
     ]
    }
   ],
   "source": [
    "if 25 < 10:\n",
    "    print('it worked')\n",
    "elif 25<30:\n",
    "    print('elif worked!')\n",
    "else:\n",
    "    print('it did not worked...')"
   ]
  },
  {
   "cell_type": "code",
   "execution_count": 4,
   "metadata": {},
   "outputs": [
    {
     "name": "stdout",
     "output_type": "stream",
     "text": [
      "elif 3 worked\n"
     ]
    }
   ],
   "source": [
    "if 25 < 10:\n",
    "    print('it worked')\n",
    "elif 25<20:\n",
    "    print('elif worked!')\n",
    "elif 25<21:\n",
    "    print('elif 2 worked')\n",
    "elif 25<40:\n",
    "    print('elif 3 worked')\n",
    "elif 25<50:\n",
    "    print('elif 4 worked')\n",
    "else:\n",
    "    print('it did not worked...')"
   ]
  },
  {
   "cell_type": "code",
   "execution_count": 7,
   "metadata": {},
   "outputs": [
    {
     "name": "stdout",
     "output_type": "stream",
     "text": [
      "it worked\n",
      "This is nested if statement worked\n"
     ]
    }
   ],
   "source": [
    "if (25 < 10) or (1<3):\n",
    "    print('it worked')\n",
    "    if 10>5:\n",
    "        print('This is nested if statement worked')\n",
    "elif 25<20:\n",
    "    print('elif worked!')\n",
    "elif 25<21:\n",
    "    print('elif 2 worked')\n",
    "elif 25<40:\n",
    "    print('elif 3 worked')\n",
    "elif 25<50:\n",
    "    print('elif 4 worked')\n",
    "else:\n",
    "    print('it did not worked...')"
   ]
  },
  {
   "cell_type": "code",
   "execution_count": null,
   "metadata": {},
   "outputs": [],
   "source": []
  }
 ],
 "metadata": {
  "kernelspec": {
   "display_name": "Python 3",
   "language": "python",
   "name": "python3"
  },
  "language_info": {
   "codemirror_mode": {
    "name": "ipython",
    "version": 3
   },
   "file_extension": ".py",
   "mimetype": "text/x-python",
   "name": "python",
   "nbconvert_exporter": "python",
   "pygments_lexer": "ipython3",
   "version": "3.11.4"
  },
  "orig_nbformat": 4
 },
 "nbformat": 4,
 "nbformat_minor": 2
}
